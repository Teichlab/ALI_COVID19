{
 "cells": [
  {
   "cell_type": "code",
   "execution_count": 1,
   "id": "decimal-poison",
   "metadata": {},
   "outputs": [],
   "source": [
    "import scanpy as sc\n",
    "import MultiMAP\n",
    "import glob\n",
    "import os\n",
    "\n",
    "sc.settings.set_figure_params(dpi=80)"
   ]
  },
  {
   "cell_type": "markdown",
   "id": "dried-algorithm",
   "metadata": {},
   "source": [
    "Load objects"
   ]
  },
  {
   "cell_type": "code",
   "execution_count": 2,
   "id": "heated-telescope",
   "metadata": {},
   "outputs": [
    {
     "name": "stdout",
     "output_type": "stream",
     "text": [
      "Delorey_2021_COVID_only.h5ad\n",
      "Yoshida_2022.h5ad\n",
      "Ziegler_2021.h5ad\n",
      "Bharat_2020.h5ad\n",
      "Trump_2020.h5ad\n",
      "Chua_2020.h5ad\n"
     ]
    },
    {
     "name": "stderr",
     "output_type": "stream",
     "text": [
      "/home/jovyan/my-conda-envs/d2c/lib/python3.8/site-packages/anndata/_core/anndata.py:1828: UserWarning: Observation names are not unique. To make them unique, call `.obs_names_make_unique`.\n",
      "  utils.warn_names_duplicates(\"obs\")\n"
     ]
    },
    {
     "name": "stdout",
     "output_type": "stream",
     "text": [
      "Loske_2021.h5ad\n",
      "Melms_2021.h5ad\n"
     ]
    }
   ],
   "source": [
    "holder = []\n",
    "\n",
    "for file in glob.glob(\"/lustre/scratch126/cellgen/team205/ac65/ALI_in_vivo_raw_datasets_curated_meta/*.h5ad\"):\n",
    "    print(os.path.basename(file))\n",
    "    holder.append(sc.read(file))\n",
    "    holder[-1].obs['file_of_origin'] = os.path.basename(file)\n",
    "    holder[-1].obs_names = [os.path.basename(file)+':'+i for i in holder[-1].obs_names]"
   ]
  },
  {
   "cell_type": "markdown",
   "id": "light-shore",
   "metadata": {},
   "source": [
    "For whatever reason this one's cells are not named uniquely"
   ]
  },
  {
   "cell_type": "code",
   "execution_count": 3,
   "id": "willing-digit",
   "metadata": {},
   "outputs": [],
   "source": [
    "holder[5].obs_names_make_unique()"
   ]
  },
  {
   "cell_type": "markdown",
   "id": "permanent-course",
   "metadata": {},
   "source": [
    "These two don't have raw counts in `.X`, but they do have them in a layer"
   ]
  },
  {
   "cell_type": "code",
   "execution_count": 4,
   "id": "electrical-pepper",
   "metadata": {},
   "outputs": [],
   "source": [
    "holder[0].X = holder[0].layers['counts']\n",
    "holder[4].X = holder[4].layers['counts']"
   ]
  },
  {
   "cell_type": "markdown",
   "id": "increasing-screening",
   "metadata": {},
   "source": [
    "The concatenation does not want to work on these out of the box. Keep just the var and obs."
   ]
  },
  {
   "cell_type": "code",
   "execution_count": 5,
   "id": "infrared-partnership",
   "metadata": {},
   "outputs": [
    {
     "name": "stderr",
     "output_type": "stream",
     "text": [
      "/tmp/ipykernel_3552/4274363287.py:4: FutureWarning: X.dtype being converted to np.float32 from float64. In the next version of anndata (0.9) conversion will not be automatic. Pass dtype explicitly to avoid this warning. Pass `AnnData(X, dtype=X.dtype, ...)` to get the future behavour.\n",
      "  holder[i] = anndata.AnnData(X=holder[i].X, var=holder[i].var, obs=holder[i].obs)\n"
     ]
    }
   ],
   "source": [
    "import anndata\n",
    "\n",
    "for i in range(len(holder)):\n",
    "    holder[i] = anndata.AnnData(X=holder[i].X, var=holder[i].var, obs=holder[i].obs)"
   ]
  },
  {
   "cell_type": "markdown",
   "id": "contained-equality",
   "metadata": {},
   "source": [
    "Commence concatenation."
   ]
  },
  {
   "cell_type": "code",
   "execution_count": 6,
   "id": "generic-associate",
   "metadata": {},
   "outputs": [
    {
     "name": "stderr",
     "output_type": "stream",
     "text": [
      "/home/jovyan/my-conda-envs/d2c/lib/python3.8/site-packages/anndata/_core/anndata.py:1785: FutureWarning: X.dtype being converted to np.float32 from float64. In the next version of anndata (0.9) conversion will not be automatic. Pass dtype explicitly to avoid this warning. Pass `AnnData(X, dtype=X.dtype, ...)` to get the future behavour.\n",
      "  [AnnData(sparse.csr_matrix(a.shape), obs=a.obs) for a in all_adatas],\n"
     ]
    }
   ],
   "source": [
    "adata = holder[0].concatenate(holder[1:], join=\"inner\", index_unique=None)"
   ]
  },
  {
   "cell_type": "markdown",
   "id": "designed-device",
   "metadata": {},
   "source": [
    "Save the raw concatenated object for ease of access. Turn any errant `object` columns to string first so this saves.\n",
    "\n",
    "This may not be sequentially numbered but is causal. Trying to figure out how to get this to save was fun."
   ]
  },
  {
   "cell_type": "code",
   "execution_count": 17,
   "id": "orange-poetry",
   "metadata": {},
   "outputs": [],
   "source": [
    "for col in adata.obs.columns[adata.obs.dtypes == \"object\"]:\n",
    "    adata.obs[col] = adata.obs[col].astype('str')"
   ]
  },
  {
   "cell_type": "code",
   "execution_count": 18,
   "id": "straight-purpose",
   "metadata": {},
   "outputs": [],
   "source": [
    "adata.write(\"/lustre/scratch126/cellgen/team205/kp9/jupyter/ac65/23-06-02-multimap/concatenated_raw.h5ad\")"
   ]
  },
  {
   "cell_type": "code",
   "execution_count": null,
   "id": "indoor-mailing",
   "metadata": {},
   "outputs": [],
   "source": []
  }
 ],
 "metadata": {
  "kernelspec": {
   "display_name": "celltypist",
   "language": "python",
   "name": "celltypist"
  },
  "language_info": {
   "codemirror_mode": {
    "name": "ipython",
    "version": 3
   },
   "file_extension": ".py",
   "mimetype": "text/x-python",
   "name": "python",
   "nbconvert_exporter": "python",
   "pygments_lexer": "ipython3",
   "version": "3.10.11"
  }
 },
 "nbformat": 4,
 "nbformat_minor": 5
}
